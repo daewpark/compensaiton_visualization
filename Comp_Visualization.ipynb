{
  "nbformat": 4,
  "nbformat_minor": 0,
  "metadata": {
    "colab": {
      "provenance": [],
      "include_colab_link": true
    },
    "kernelspec": {
      "name": "python3",
      "display_name": "Python 3"
    },
    "language_info": {
      "name": "python"
    }
  },
  "cells": [
    {
      "cell_type": "markdown",
      "metadata": {
        "id": "view-in-github",
        "colab_type": "text"
      },
      "source": [
        "<a href=\"https://colab.research.google.com/github/daewpark/compensation_visualization/blob/main/Comp_Visualization.ipynb\" target=\"_parent\"><img src=\"https://colab.research.google.com/assets/colab-badge.svg\" alt=\"Open In Colab\"/></a>"
      ]
    },
    {
      "cell_type": "code",
      "source": [
        "import pandas as pd\n",
        "import numpy as np\n",
        "import plotly.express as px\n",
        "import plotly.graph_objects as go"
      ],
      "metadata": {
        "id": "0LZsQ5Psdn7e"
      },
      "execution_count": null,
      "outputs": []
    },
    {
      "cell_type": "code",
      "source": [
        "from google.colab import auth\n",
        "auth.authenticate_user()\n",
        "\n",
        "import gspread\n",
        "from google.auth import default\n",
        "creds, _ = default()\n",
        "\n",
        "gc = gspread.authorize(creds)\n",
        "\n",
        "wb = gc.open('Data')\n",
        "sheet = wb.worksheet('Rawdata')\n",
        "\n",
        "# get_all_values gives a list of rows.\n",
        "data = sheet.get_all_values()\n",
        "\n",
        "# Convert to a DataFrame and render.\n",
        "df = pd.DataFrame(data)"
      ],
      "metadata": {
        "id": "HSRQLubuMsW9"
      },
      "execution_count": null,
      "outputs": []
    },
    {
      "cell_type": "code",
      "source": [
        "# CSV 로드시\n",
        "#from google.colab import drive\n",
        "#drive.mount('/content/gdrive/')\n",
        "#df = pd.read_csv(\"/content/gdrive/My Drive/cp.csv\")\n",
        "#df.info()"
      ],
      "metadata": {
        "id": "DaTkgDFmdzWO"
      },
      "execution_count": null,
      "outputs": []
    },
    {
      "cell_type": "code",
      "source": [
        "# Data Load\n",
        "df.columns = df.iloc[0]\n",
        "df = df.iloc[1:]"
      ],
      "metadata": {
        "id": "SdqfPjKYeelm"
      },
      "execution_count": null,
      "outputs": []
    },
    {
      "cell_type": "markdown",
      "source": [
        "<h3> Salary 데이터 전처리"
      ],
      "metadata": {
        "id": "JBKtm_5Un8S1"
      }
    },
    {
      "cell_type": "code",
      "source": [
        "# 데이터 타입 변환 (Str 로 데이터를 읽어와서 float 로 바꿔줘야 함)\n",
        "df['Total Base Pay Change Percent'] = df['Total Base Pay Change Percent'].str.replace('%','')\n",
        "df = df.astype({'Total Base Pay Change Percent': 'float'})\n",
        "\n",
        "df['STI (Individual) Proposed %'] = df['STI (Individual) Proposed %'].str.replace('%','')\n",
        "df = df.astype({'STI (Individual) Proposed %': 'float'})\n",
        "\n",
        "df['LTI Grant Mid 대비 %'] = df['LTI Grant Mid 대비 %'].str.replace('%','')\n",
        "df = df.astype({'LTI Grant Mid 대비 %': 'float'})"
      ],
      "metadata": {
        "id": "Qs5KEY7caYzI"
      },
      "execution_count": null,
      "outputs": []
    },
    {
      "cell_type": "code",
      "source": [
        "# Salary 데이터 준비\n",
        "\n",
        "# People부문 제외\n",
        "df_salary = df[df[\"본부\"]!=\"People부문\"]\n",
        "\n",
        "# 보상리뷰 제외자 제외\n",
        "df_salary = df_salary[df_salary[\"보상리뷰 제외여부\"]==\"포함\"]\n",
        "\n",
        "# 승진자 제외여부\n",
        "# df = df[df[\"승진여부\"] == \"승진\"]\n",
        "df_salary = df_salary[df_salary[\"Promotion Yes/No\"]==\"\"]"
      ],
      "metadata": {
        "id": "E9OKJVDOovkf"
      },
      "execution_count": null,
      "outputs": []
    },
    {
      "cell_type": "markdown",
      "source": [
        "<H1> Salary Differentiation (Overall)"
      ],
      "metadata": {
        "id": "4kOUxvYEvR6k"
      }
    },
    {
      "cell_type": "code",
      "source": [
        "plot = go.Figure(data=go.Violin(x=df_salary['2022 Contribution and Impact'],y=df_salary['Total Base Pay Change Percent'],points=\"all\"))\n",
        "plot.show()"
      ],
      "metadata": {
        "id": "elTt5YJMKP-L"
      },
      "execution_count": null,
      "outputs": []
    },
    {
      "cell_type": "code",
      "source": [
        "x0 = df_salary[\"Total Base Pay Change Percent\"][df_salary[\"2022 Contribution and Impact\"] == \"Higher\"]\n",
        "x1 = df_salary[\"Total Base Pay Change Percent\"][df_salary[\"2022 Contribution and Impact\"] == \"On-Target\"]\n",
        "x2 = df_salary[\"Total Base Pay Change Percent\"][df_salary[\"2022 Contribution and Impact\"] == \"Lower\"]\n",
        "\n",
        "fig_sti_hist = go.Figure()\n",
        "fig_sti_hist.add_trace(go.Histogram(x=x0,name=\"Higher\",nbinsx=20))\n",
        "fig_sti_hist.add_trace(go.Histogram(x=x1,name=\"On-Target\",nbinsx=20))\n",
        "fig_sti_hist.add_trace(go.Histogram(x=x2,name=\"Lower\",nbinsx=20))\n",
        "\n",
        "# Overlay both histograms\n",
        "fig_sti_hist.update_layout(barmode='overlay')\n",
        "\n",
        "# Reduce opacity to see both histograms\n",
        "fig_sti_hist.update_traces(opacity=0.75)\n",
        "fig_sti_hist.show()"
      ],
      "metadata": {
        "id": "i-4ZgWOqTnwS"
      },
      "execution_count": null,
      "outputs": []
    },
    {
      "cell_type": "markdown",
      "source": [
        "<h3> Salary Differentiation\n"
      ],
      "metadata": {
        "id": "jMinVfx1vaPa"
      }
    },
    {
      "cell_type": "code",
      "source": [
        "# Job Category 선택\n",
        "df_salary_core = df_salary[df_salary[\"Job Category\"]==\"Core\"]\n",
        "\n",
        "# Boxplot\n",
        "fig2 = go.Figure()\n",
        "\n",
        "fig2.add_trace(go.Box(\n",
        "    y=df_salary_core.loc[df_salary_core[\"2022 Contribution and Impact\"] == \"Higher\", \"Total Base Pay Change Percent\"],\n",
        "    x=df_salary_core.loc[df_salary_core[\"2022 Contribution and Impact\"] == \"Higher\", \"본부\"],\n",
        "    name ='Higher',\n",
        "    marker_color='blue'\n",
        "))\n",
        "\n",
        "fig2.add_trace(go.Box(\n",
        "    y=df_salary_core.loc[df_salary_core[\"2022 Contribution and Impact\"] == \"On-Target\", \"Total Base Pay Change Percent\"],\n",
        "    x=df_salary_core.loc[df_salary_core[\"2022 Contribution and Impact\"] == \"On-Target\", \"본부\"],\n",
        "    name='On-Target',\n",
        "    marker_color='green'\n",
        "))\n",
        "\n",
        "fig2.add_trace(go.Box(\n",
        "    y=df_salary_core.loc[df_salary_core[\"2022 Contribution and Impact\"] == \"Lower\", \"Total Base Pay Change Percent\"],\n",
        "    x=df_salary_core.loc[df_salary_core[\"2022 Contribution and Impact\"] == \"Lower\", \"본부\"],\n",
        "    name='Lower',\n",
        "    marker_color='red'\n",
        "))\n",
        "\n",
        "fig2.update_layout(\n",
        "    title = \"Salary Increase Differentiation (Core) \",\n",
        "    yaxis_title='Total Base Pay Change Percent',\n",
        "    boxmode='group', # group together boxes of the different traces for each value of x\n",
        "    height = 800\n",
        ")\n",
        "fig2.show()"
      ],
      "metadata": {
        "id": "ZCPKkvv6ndOR"
      },
      "execution_count": null,
      "outputs": []
    },
    {
      "cell_type": "markdown",
      "source": [
        "<h3> STI 데이터 전처리"
      ],
      "metadata": {
        "id": "Gao0DhKslyMk"
      }
    },
    {
      "cell_type": "code",
      "source": [
        "# STI 데이터 준비\n",
        "\n",
        "# People부문 제외\n",
        "df_sti= df[df[\"본부\"]!=\"People부문\"]\n",
        "\n",
        "# 퇴사자 제외 여부\n",
        "df_sti= df_sti[df_sti[\"보상리뷰 제외여부\"]==\"포함\"]\n",
        "\n",
        "# 평가제외자 제외 여부\n",
        "df_sti = df_sti[df_sti[\"2022 Contribution and Impact\"]!=\"\"]\n",
        "\n",
        "# 승진자 제외여부\n",
        "# df_sti= df_sti[df_sti[\"승진여부\"] == \"승진\"]\n",
        "#df_sti= df_sti[df_sti[\"Promotion Yes/No\"]==\"\"]"
      ],
      "metadata": {
        "id": "ndG-maWvmUKw"
      },
      "execution_count": null,
      "outputs": []
    },
    {
      "cell_type": "markdown",
      "source": [
        "STI Differentiation (Overall)"
      ],
      "metadata": {
        "id": "QGT1lbDrlcgr"
      }
    },
    {
      "cell_type": "code",
      "source": [
        "viloin_sti = go.Figure(data=go.Violin(x=df_sti[\"2022 Contribution and Impact\"],y=df_sti['STI (Individual) Proposed %'], points=\"all\"))\n",
        "viloin_sti.show()"
      ],
      "metadata": {
        "id": "dDVi05Xvlbbv"
      },
      "execution_count": null,
      "outputs": []
    },
    {
      "cell_type": "markdown",
      "source": [
        "STI Histogram"
      ],
      "metadata": {
        "id": "oJ0IWw2EKtEe"
      }
    },
    {
      "cell_type": "code",
      "source": [
        "x0 = df_sti[\"STI (Individual) Proposed %\"][df_sti[\"2022 Contribution and Impact\"] == \"Higher\"]\n",
        "x1 = df_sti[\"STI (Individual) Proposed %\"][df_sti[\"2022 Contribution and Impact\"] == \"On-Target\"]\n",
        "x2 = df_sti[\"STI (Individual) Proposed %\"][df_sti[\"2022 Contribution and Impact\"] == \"Lower\"]\n",
        "\n",
        "fig_sti_hist = go.Figure()\n",
        "fig_sti_hist.add_trace(go.Histogram(x=x0,name=\"Higher\"))\n",
        "fig_sti_hist.add_trace(go.Histogram(x=x1,name=\"On-Target\"))\n",
        "fig_sti_hist.add_trace(go.Histogram(x=x2,name=\"Lower\"))\n",
        "\n",
        "# Overlay both histograms\n",
        "fig_sti_hist.update_layout(barmode='overlay')\n",
        "\n",
        "# Reduce opacity to see both histograms\n",
        "fig_sti_hist.update_traces(opacity=0.75)\n",
        "fig_sti_hist.show()"
      ],
      "metadata": {
        "id": "8nZhMjY6FL5Q"
      },
      "execution_count": null,
      "outputs": []
    },
    {
      "cell_type": "code",
      "source": [
        "# boxplot\n",
        "fig5 = go.Figure()\n",
        "\n",
        "fig5.add_trace(go.Box(\n",
        "    y=df_sti.loc[df_sti[\"2022 Contribution and Impact\"] == \"Higher\", \"STI (Individual) Proposed %\"],\n",
        "    x=df_sti.loc[df_sti[\"2022 Contribution and Impact\"] == \"Higher\", \"본부\"],\n",
        "    name ='Higher',\n",
        "    marker_color='blue'\n",
        "))\n",
        "\n",
        "fig5.add_trace(go.Box(\n",
        "    y=df_sti.loc[df_sti[\"2022 Contribution and Impact\"] == \"On-Target\", \"STI (Individual) Proposed %\"],\n",
        "    x=df_sti.loc[df_sti[\"2022 Contribution and Impact\"] == \"On-Target\", \"본부\"],\n",
        "    name='On-Target',\n",
        "    marker_color='green'\n",
        "))\n",
        "\n",
        "fig5.add_trace(go.Box(\n",
        "    y=df_sti.loc[df_sti[\"2022 Contribution and Impact\"] == \"Lower\", \"STI (Individual) Proposed %\"],\n",
        "    x=df_sti.loc[df_sti[\"2022 Contribution and Impact\"] == \"Lower\", \"본부\"],\n",
        "    name='Lower',\n",
        "    marker_color='red'\n",
        "))\n",
        "\n",
        "fig5.update_layout(\n",
        "    title = \"STI Differentiation\",\n",
        "    yaxis_title='STI Proposed %',\n",
        "    boxmode='group', # group together boxes of the different traces for each value of x\n",
        "    height = 800\n",
        ")\n",
        "fig5.show()"
      ],
      "metadata": {
        "id": "VfVZN-tulbJp"
      },
      "execution_count": null,
      "outputs": []
    },
    {
      "cell_type": "markdown",
      "source": [
        "<h3> LTI 데이터 전처리"
      ],
      "metadata": {
        "id": "o5RQ_PJKozqu"
      }
    },
    {
      "cell_type": "code",
      "source": [
        "# LTI 데이터 준비\n",
        "\n",
        "# People부문 제외\n",
        "df_lti = df[df[\"본부\"]!=\"People부문\"]\n",
        "\n",
        "# 퇴사자 제외 여부\n",
        "df_lti = df_lti[df_lti[\"보상리뷰 제외여부\"]==\"포함\"]\n",
        "\n",
        "# 승진자 제외여부\n",
        "# df_lti = df_lti[df_lti[\"승진여부\"] == \"승진\"]\n",
        "df_lti = df_lti[df_lti[\"Promotion Yes/No\"]==\"\"]\n"
      ],
      "metadata": {
        "id": "cyhio1gIzV7D"
      },
      "execution_count": null,
      "outputs": []
    },
    {
      "cell_type": "markdown",
      "source": [
        "<h3> LTI Differentiation (Overall)"
      ],
      "metadata": {
        "id": "eOWA6rnEuNhZ"
      }
    },
    {
      "cell_type": "code",
      "source": [
        "viloin_lti = go.Figure(data=go.Violin(x=df_lti['2022 Contribution and Impact'],y=df_lti['LTI Grant Mid 대비 %'], points=\"all\"))\n",
        "viloin_lti.show()"
      ],
      "metadata": {
        "id": "y_0rhA3SBwj8"
      },
      "execution_count": null,
      "outputs": []
    },
    {
      "cell_type": "markdown",
      "source": [
        "<H3> LTI Differentiation\n"
      ],
      "metadata": {
        "id": "5zv_f6FWuw9_"
      }
    },
    {
      "cell_type": "code",
      "source": [
        "#@title\n",
        "# Job Category 선택\n",
        "df_lti_core = df_lti[df_lti[\"Job Category\"]==\"Core\"]\n",
        "\n",
        "# boxplot\n",
        "fig4 = go.Figure()\n",
        "\n",
        "fig4.add_trace(go.Box(\n",
        "    y=df_lti_core.loc[df_lti_core[\"2022 Contribution and Impact\"] == \"Higher\", \"LTI Grant Mid 대비 %\"],\n",
        "    x=df_lti_core.loc[df_lti_core[\"2022 Contribution and Impact\"] == \"Higher\", \"본부\"],\n",
        "    name ='Higher',\n",
        "    marker_color='blue'\n",
        "))\n",
        "\n",
        "fig4.add_trace(go.Box(\n",
        "    y=df_lti_core.loc[df_lti_core[\"2022 Contribution and Impact\"] == \"On-Target\", \"LTI Grant Mid 대비 %\"],\n",
        "    x=df_lti_core.loc[df_lti_core[\"2022 Contribution and Impact\"] == \"On-Target\", \"본부\"],\n",
        "    name='On-Target',\n",
        "    marker_color='green'\n",
        "))\n",
        "\n",
        "fig4.add_trace(go.Box(\n",
        "    y=df_lti_core.loc[df_lti_core[\"2022 Contribution and Impact\"] == \"Lower\", \"LTI Grant Mid 대비 %\"],\n",
        "    x=df_lti_core.loc[df_lti_core[\"2022 Contribution and Impact\"] == \"Lower\", \"본부\"],\n",
        "    name='Lower',\n",
        "    marker_color='red'\n",
        "))\n",
        "\n",
        "fig4.update_layout(\n",
        "    title = \"LTI Differentiation\",\n",
        "    yaxis_title='LTI Grant Mid 대비 %',\n",
        "    boxmode='group', # group together boxes of the different traces for each value of x\n",
        "    height = 800\n",
        ")\n",
        "fig4.show()"
      ],
      "metadata": {
        "id": "4iMxqw6puhl7"
      },
      "execution_count": null,
      "outputs": []
    }
  ]
}